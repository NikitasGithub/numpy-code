{
 "cells": [
  {
   "cell_type": "code",
   "execution_count": 1,
   "id": "4486fd89-d1e8-491f-80ce-4a568e376e39",
   "metadata": {},
   "outputs": [],
   "source": [
    "import numpy as np"
   ]
  },
  {
   "cell_type": "code",
   "execution_count": 3,
   "id": "30af4e8c-64f5-4286-b1de-022ff284a20e",
   "metadata": {},
   "outputs": [
    {
     "data": {
      "text/plain": [
       "0.7167684031277249"
      ]
     },
     "execution_count": 3,
     "metadata": {},
     "output_type": "execute_result"
    }
   ],
   "source": [
    "np.random.rand() #btw 0 and 1 #uniform distributions"
   ]
  },
  {
   "cell_type": "code",
   "execution_count": 4,
   "id": "8ef1229d-60aa-46c1-9316-a6c9fec2bd4f",
   "metadata": {},
   "outputs": [
    {
     "data": {
      "text/plain": [
       "array([0.4618799 , 0.52822614, 0.4575637 ])"
      ]
     },
     "execution_count": 4,
     "metadata": {},
     "output_type": "execute_result"
    }
   ],
   "source": [
    "np.random.rand(3)"
   ]
  },
  {
   "cell_type": "code",
   "execution_count": 5,
   "id": "158ea9a8-998c-4d25-9cf9-ff7478508d6d",
   "metadata": {},
   "outputs": [
    {
     "data": {
      "text/plain": [
       "array([[0.87215645, 0.75364289],\n",
       "       [0.06357863, 0.20134669]])"
      ]
     },
     "execution_count": 5,
     "metadata": {},
     "output_type": "execute_result"
    }
   ],
   "source": [
    "np.random.rand(2, 2)"
   ]
  },
  {
   "cell_type": "code",
   "execution_count": 8,
   "id": "b6254514-90f6-4ec8-9e39-7595aca34e37",
   "metadata": {},
   "outputs": [
    {
     "data": {
      "text/plain": [
       "array([[ 0.29278704,  1.08508294],\n",
       "       [ 0.39352543, -0.39697253]])"
      ]
     },
     "execution_count": 8,
     "metadata": {},
     "output_type": "execute_result"
    }
   ],
   "source": [
    "np.random.randn(2,2) #mean=0 and std=1"
   ]
  },
  {
   "cell_type": "code",
   "execution_count": 14,
   "id": "56c12be1-9653-4fb8-a388-956f85bcf6b2",
   "metadata": {},
   "outputs": [
    {
     "data": {
      "text/plain": [
       "array([[4, 4, 2],\n",
       "       [6, 5, 3]])"
      ]
     },
     "execution_count": 14,
     "metadata": {},
     "output_type": "execute_result"
    }
   ],
   "source": [
    "np.random.randint(1, 7, size=(2,3))"
   ]
  },
  {
   "cell_type": "code",
   "execution_count": 19,
   "id": "2888319c-07db-4e28-a2ce-ab6fd8d3822c",
   "metadata": {},
   "outputs": [
    {
     "name": "stdout",
     "output_type": "stream",
     "text": [
      "[0.11505457 0.60906654 0.13339096]\n"
     ]
    }
   ],
   "source": [
    "np.random.seed(43) #locks the randomness\n",
    "print(np.random.rand(3))"
   ]
  },
  {
   "cell_type": "code",
   "execution_count": 30,
   "id": "10ac3a2d-ac55-4dd5-a453-35ad253f3658",
   "metadata": {},
   "outputs": [
    {
     "data": {
      "text/plain": [
       "array(['Bob', 'Ajay'], dtype='<U5')"
      ]
     },
     "execution_count": 30,
     "metadata": {},
     "output_type": "execute_result"
    }
   ],
   "source": [
    "names = [\"Ajay\", \"Vijay\", \"Bob\"]\n",
    "np.random.choice(names, size=2, p=[0.8, 0.1, 0.1])"
   ]
  },
  {
   "cell_type": "code",
   "execution_count": 31,
   "id": "be81e33d-8dde-46c9-8c6d-3ebe636bc6c8",
   "metadata": {},
   "outputs": [],
   "source": [
    "arr = np.array([1,2,3,4,5,6])\n",
    "np.random.shuffle(arr)"
   ]
  },
  {
   "cell_type": "code",
   "execution_count": 32,
   "id": "c90e9c4f-8eaa-42fb-b2b9-2c822d954355",
   "metadata": {},
   "outputs": [
    {
     "name": "stdout",
     "output_type": "stream",
     "text": [
      "[3 6 4 2 5 1]\n"
     ]
    }
   ],
   "source": [
    "print(arr) #in place"
   ]
  },
  {
   "cell_type": "code",
   "execution_count": null,
   "id": "72cd47ab-225d-4b32-99f5-3a8af24c7f25",
   "metadata": {},
   "outputs": [],
   "source": []
  },
  {
   "cell_type": "code",
   "execution_count": null,
   "id": "e06f6b92-b785-4531-a96c-633f2b317e10",
   "metadata": {},
   "outputs": [],
   "source": []
  },
  {
   "cell_type": "code",
   "execution_count": null,
   "id": "f400fada-3701-42f4-b854-7e920154ee4b",
   "metadata": {},
   "outputs": [],
   "source": []
  }
 ],
 "metadata": {
  "kernelspec": {
   "display_name": "Python 3 (ipykernel)",
   "language": "python",
   "name": "python3"
  },
  "language_info": {
   "codemirror_mode": {
    "name": "ipython",
    "version": 3
   },
   "file_extension": ".py",
   "mimetype": "text/x-python",
   "name": "python",
   "nbconvert_exporter": "python",
   "pygments_lexer": "ipython3",
   "version": "3.11.7"
  }
 },
 "nbformat": 4,
 "nbformat_minor": 5
}
