{
 "cells": [
  {
   "cell_type": "code",
   "execution_count": 3,
   "id": "1e759a5e-1a07-4d61-b4dd-17e3dc7260fd",
   "metadata": {},
   "outputs": [],
   "source": [
    "import numpy as np"
   ]
  },
  {
   "cell_type": "code",
   "execution_count": 4,
   "id": "326acb50-7f14-4a23-9ae5-d08711253767",
   "metadata": {},
   "outputs": [],
   "source": [
    "arr = np.array([10, 20, 30, 40, 50])"
   ]
  },
  {
   "cell_type": "code",
   "execution_count": null,
   "id": "299d44f5-8895-444e-9efe-889be968360a",
   "metadata": {},
   "outputs": [],
   "source": [
    "index ->  0"
   ]
  },
  {
   "cell_type": "code",
   "execution_count": 5,
   "id": "66150a52-af8a-4707-bd9d-b102dd7da032",
   "metadata": {},
   "outputs": [
    {
     "data": {
      "text/plain": [
       "30"
      ]
     },
     "execution_count": 5,
     "metadata": {},
     "output_type": "execute_result"
    }
   ],
   "source": [
    "arr[2]"
   ]
  },
  {
   "cell_type": "code",
   "execution_count": 6,
   "id": "c42a4777-f2fa-476b-8e31-0ab528096763",
   "metadata": {},
   "outputs": [
    {
     "data": {
      "text/plain": [
       "50"
      ]
     },
     "execution_count": 6,
     "metadata": {},
     "output_type": "execute_result"
    }
   ],
   "source": [
    "arr[-1]"
   ]
  },
  {
   "cell_type": "code",
   "execution_count": null,
   "id": "dd6acf00-3727-4178-8250-bd4c0f55ef18",
   "metadata": {},
   "outputs": [],
   "source": [
    "#slice notation\n",
    "\n",
    "[start: stop: step]"
   ]
  },
  {
   "cell_type": "code",
   "execution_count": 7,
   "id": "6295c7bd-c4d8-4883-8535-91baa51dc7d2",
   "metadata": {},
   "outputs": [
    {
     "data": {
      "text/plain": [
       "array([10, 20, 30, 40, 50])"
      ]
     },
     "execution_count": 7,
     "metadata": {},
     "output_type": "execute_result"
    }
   ],
   "source": [
    "arr"
   ]
  },
  {
   "cell_type": "code",
   "execution_count": 8,
   "id": "39ec3314-e008-4893-90b0-808637968097",
   "metadata": {},
   "outputs": [
    {
     "data": {
      "text/plain": [
       "array([10, 20])"
      ]
     },
     "execution_count": 8,
     "metadata": {},
     "output_type": "execute_result"
    }
   ],
   "source": [
    "arr[0:2]"
   ]
  },
  {
   "cell_type": "code",
   "execution_count": 9,
   "id": "d8459306-c1b9-4f1a-9e6f-216fd60651d3",
   "metadata": {},
   "outputs": [
    {
     "data": {
      "text/plain": [
       "array([30, 50])"
      ]
     },
     "execution_count": 9,
     "metadata": {},
     "output_type": "execute_result"
    }
   ],
   "source": [
    "arr[2::2]"
   ]
  },
  {
   "cell_type": "code",
   "execution_count": 11,
   "id": "6c203b29-d4d0-4a60-902a-b3732dfbd1aa",
   "metadata": {},
   "outputs": [],
   "source": [
    "arr2d = np.array([[1, 2, 3], [4, 5, 6]])"
   ]
  },
  {
   "cell_type": "code",
   "execution_count": 13,
   "id": "6a926957-5d03-4638-85ac-70ec6918724a",
   "metadata": {},
   "outputs": [
    {
     "data": {
      "text/plain": [
       "5"
      ]
     },
     "execution_count": 13,
     "metadata": {},
     "output_type": "execute_result"
    }
   ],
   "source": [
    "arr2d[1][1]"
   ]
  },
  {
   "cell_type": "code",
   "execution_count": 14,
   "id": "c54d93cc-ea93-46b9-9bea-a66a9892482d",
   "metadata": {},
   "outputs": [
    {
     "data": {
      "text/plain": [
       "5"
      ]
     },
     "execution_count": 14,
     "metadata": {},
     "output_type": "execute_result"
    }
   ],
   "source": [
    "arr2d[1,1] #1st dim at index 1 and for  2nd dim at index 1"
   ]
  },
  {
   "cell_type": "code",
   "execution_count": 15,
   "id": "7ecbb660-558c-43b6-8cbe-22d933ac12ef",
   "metadata": {},
   "outputs": [
    {
     "data": {
      "text/plain": [
       "3"
      ]
     },
     "execution_count": 15,
     "metadata": {},
     "output_type": "execute_result"
    }
   ],
   "source": [
    "arr2d[0, 2]"
   ]
  },
  {
   "cell_type": "code",
   "execution_count": 16,
   "id": "e3259df6-92a7-4d6b-b295-5cc282d2eed3",
   "metadata": {},
   "outputs": [
    {
     "data": {
      "text/plain": [
       "array([[2, 3],\n",
       "       [5, 6]])"
      ]
     },
     "execution_count": 16,
     "metadata": {},
     "output_type": "execute_result"
    }
   ],
   "source": [
    "arr2d[0:2,1:]"
   ]
  },
  {
   "cell_type": "code",
   "execution_count": 17,
   "id": "6ad63709-e887-4729-abe9-7dc94e7a061a",
   "metadata": {},
   "outputs": [],
   "source": [
    "arr3d = np.array([\n",
    "    [[1, 2], [3, 4]], \n",
    "    [[5, 6], [7, 8]]\n",
    "])"
   ]
  },
  {
   "cell_type": "code",
   "execution_count": 18,
   "id": "4b8ce8ae-7e7d-4cf1-a0de-b0539cad1355",
   "metadata": {},
   "outputs": [
    {
     "data": {
      "text/plain": [
       "4"
      ]
     },
     "execution_count": 18,
     "metadata": {},
     "output_type": "execute_result"
    }
   ],
   "source": [
    "arr3d[0,1,1] #3 arguments for 3 dim"
   ]
  },
  {
   "cell_type": "code",
   "execution_count": null,
   "id": "26ed37f0-0345-4032-9888-1c7ba45db7c4",
   "metadata": {},
   "outputs": [],
   "source": [
    "# it returns a view and not a copy"
   ]
  },
  {
   "cell_type": "code",
   "execution_count": 19,
   "id": "74fa4e73-7ebe-4ead-8025-02f202ca8dad",
   "metadata": {},
   "outputs": [],
   "source": [
    "arr = np.array([10, 20, 30, 40, 50])\n",
    "slice_arr = arr[1:5]"
   ]
  },
  {
   "cell_type": "code",
   "execution_count": 20,
   "id": "a5f96364-f774-408e-a551-fc8c07c4a3d7",
   "metadata": {},
   "outputs": [
    {
     "data": {
      "text/plain": [
       "array([20, 30, 40, 50])"
      ]
     },
     "execution_count": 20,
     "metadata": {},
     "output_type": "execute_result"
    }
   ],
   "source": [
    "slice_arr"
   ]
  },
  {
   "cell_type": "code",
   "execution_count": 21,
   "id": "cd922fb4-21d6-4c41-bd1e-3a9a2eb11309",
   "metadata": {},
   "outputs": [],
   "source": [
    "slice_arr[1] = 300"
   ]
  },
  {
   "cell_type": "code",
   "execution_count": 22,
   "id": "3dbbccaa-7c5b-4aa9-8892-406999f79c62",
   "metadata": {},
   "outputs": [
    {
     "data": {
      "text/plain": [
       "array([ 20, 300,  40,  50])"
      ]
     },
     "execution_count": 22,
     "metadata": {},
     "output_type": "execute_result"
    }
   ],
   "source": [
    "slice_arr"
   ]
  },
  {
   "cell_type": "code",
   "execution_count": 23,
   "id": "318b552e-27fb-47a8-96c0-2f0f8d9ac889",
   "metadata": {},
   "outputs": [
    {
     "data": {
      "text/plain": [
       "array([ 10,  20, 300,  40,  50])"
      ]
     },
     "execution_count": 23,
     "metadata": {},
     "output_type": "execute_result"
    }
   ],
   "source": [
    "arr"
   ]
  },
  {
   "cell_type": "code",
   "execution_count": null,
   "id": "422b257c-72cc-4ce1-aff9-1652eb2eb978",
   "metadata": {},
   "outputs": [],
   "source": []
  }
 ],
 "metadata": {
  "kernelspec": {
   "display_name": "Python 3 (ipykernel)",
   "language": "python",
   "name": "python3"
  },
  "language_info": {
   "codemirror_mode": {
    "name": "ipython",
    "version": 3
   },
   "file_extension": ".py",
   "mimetype": "text/x-python",
   "name": "python",
   "nbconvert_exporter": "python",
   "pygments_lexer": "ipython3",
   "version": "3.11.7"
  }
 },
 "nbformat": 4,
 "nbformat_minor": 5
}
