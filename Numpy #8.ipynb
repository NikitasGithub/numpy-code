{
 "cells": [
  {
   "cell_type": "code",
   "execution_count": 1,
   "id": "b76ea799-8049-468a-bfac-77fde3f03dcd",
   "metadata": {},
   "outputs": [],
   "source": [
    "import numpy as np"
   ]
  },
  {
   "cell_type": "code",
   "execution_count": 9,
   "id": "779e3295-8bce-4926-b1b4-0a0ec8a7a463",
   "metadata": {},
   "outputs": [],
   "source": [
    "marks = np.array([85, 90, 75, 60]) #Aryan"
   ]
  },
  {
   "cell_type": "code",
   "execution_count": 10,
   "id": "6165cc9f-e4f9-4428-b2c6-6b49d3a8b16f",
   "metadata": {},
   "outputs": [
    {
     "data": {
      "text/plain": [
       "310"
      ]
     },
     "execution_count": 10,
     "metadata": {},
     "output_type": "execute_result"
    }
   ],
   "source": [
    "np.sum(marks)"
   ]
  },
  {
   "cell_type": "code",
   "execution_count": 11,
   "id": "a03af3a7-0843-41a3-ae50-ed85b207e9a6",
   "metadata": {},
   "outputs": [
    {
     "data": {
      "text/plain": [
       "77.5"
      ]
     },
     "execution_count": 11,
     "metadata": {},
     "output_type": "execute_result"
    }
   ],
   "source": [
    "np.mean(marks)"
   ]
  },
  {
   "cell_type": "code",
   "execution_count": 12,
   "id": "1fd8998b-be38-47b7-a78a-ce95358d65ad",
   "metadata": {},
   "outputs": [
    {
     "data": {
      "text/plain": [
       "90"
      ]
     },
     "execution_count": 12,
     "metadata": {},
     "output_type": "execute_result"
    }
   ],
   "source": [
    "np.max(marks)"
   ]
  },
  {
   "cell_type": "code",
   "execution_count": 13,
   "id": "40ca6fdd-d270-4f31-bfbb-a26980ff415e",
   "metadata": {},
   "outputs": [
    {
     "data": {
      "text/plain": [
       "60"
      ]
     },
     "execution_count": 13,
     "metadata": {},
     "output_type": "execute_result"
    }
   ],
   "source": [
    "np.min(marks)"
   ]
  },
  {
   "cell_type": "code",
   "execution_count": 14,
   "id": "101866a1-0fc8-4a89-9f61-eb7cf0f9dda2",
   "metadata": {},
   "outputs": [],
   "source": [
    "marks_2d = np.array([\n",
    "    [85, 90, 75, 60],\n",
    "    [70, 80, 65, 85],\n",
    "    [95, 88, 92, 75]\n",
    "])\n",
    "\n",
    "#1st dim students\n",
    "#2nd dim subject"
   ]
  },
  {
   "cell_type": "code",
   "execution_count": 15,
   "id": "ff46e8f0-e007-4535-8be4-1c57877d01dd",
   "metadata": {},
   "outputs": [
    {
     "data": {
      "text/plain": [
       "960"
      ]
     },
     "execution_count": 15,
     "metadata": {},
     "output_type": "execute_result"
    }
   ],
   "source": [
    "np.sum(marks_2d)"
   ]
  },
  {
   "cell_type": "code",
   "execution_count": 16,
   "id": "3d4e17d3-04ae-49b3-bd0a-cad0e2ee49d0",
   "metadata": {},
   "outputs": [
    {
     "data": {
      "text/plain": [
       "array([250, 258, 232, 220])"
      ]
     },
     "execution_count": 16,
     "metadata": {},
     "output_type": "execute_result"
    }
   ],
   "source": [
    "np.sum(marks_2d, axis=0) #sum of marks per subject"
   ]
  },
  {
   "cell_type": "code",
   "execution_count": null,
   "id": "65fbce32-6c80-4e9e-8546-54c60bf81a15",
   "metadata": {},
   "outputs": [],
   "source": [
    "#axis = 0 -> 1st dim -> collapsing row wise  -> operate down the cols"
   ]
  },
  {
   "cell_type": "code",
   "execution_count": 17,
   "id": "dbc2332e-d602-4bec-abd3-660e6eabe636",
   "metadata": {},
   "outputs": [
    {
     "data": {
      "text/plain": [
       "array([310, 300, 350])"
      ]
     },
     "execution_count": 17,
     "metadata": {},
     "output_type": "execute_result"
    }
   ],
   "source": [
    "np.sum(marks_2d, axis=1) #sum of marks per student\n",
    "\n",
    "#axis=1 -> 2nd dim -> collapse 2nd dim (cols) -> operate across rows"
   ]
  },
  {
   "cell_type": "code",
   "execution_count": 20,
   "id": "c505e819-fc90-4363-8a1e-3de2cbd9c648",
   "metadata": {},
   "outputs": [],
   "source": [
    "marks_3d = np.array([\n",
    "    [\n",
    "        [80, 85, 90, 75],   # Class 1, Student 1\n",
    "        [70, 88, 78, 85],   # Class 1, Student 2\n",
    "        [95, 92, 85, 80]    # Class 1, Student 3\n",
    "    ],\n",
    "    [\n",
    "        [65, 75, 80, 70],   # Class 2, Student 1\n",
    "        [88, 82, 90, 84],   # Class 2, Student 2\n",
    "        [78, 85, 88, 91]    # Class 2, Student 3\n",
    "    ]\n",
    "])"
   ]
  },
  {
   "cell_type": "code",
   "execution_count": 19,
   "id": "87b16d37-8a8e-4b45-8615-c9a5ca66b85d",
   "metadata": {},
   "outputs": [],
   "source": [
    "#average marks per student across all subjects in each class"
   ]
  },
  {
   "cell_type": "code",
   "execution_count": 21,
   "id": "3d04b45a-9b0f-4972-8b2d-132f6b2346d3",
   "metadata": {},
   "outputs": [
    {
     "data": {
      "text/plain": [
       "array([[82.5 , 80.25, 88.  ],\n",
       "       [72.5 , 86.  , 85.5 ]])"
      ]
     },
     "execution_count": 21,
     "metadata": {},
     "output_type": "execute_result"
    }
   ],
   "source": [
    "np.mean(marks_3d,axis=2)"
   ]
  },
  {
   "cell_type": "code",
   "execution_count": null,
   "id": "a7b0d279-b55f-446f-9fff-6fc1f391403d",
   "metadata": {},
   "outputs": [],
   "source": [
    "#overall average per subject across all students and classes\n",
    "\n",
    "subject1 = 100\n",
    "\n",
    "collapse -> class and student (0,1)"
   ]
  },
  {
   "cell_type": "code",
   "execution_count": 22,
   "id": "c07a6c68-4112-486d-9210-1d768fa4deb8",
   "metadata": {},
   "outputs": [
    {
     "data": {
      "text/plain": [
       "array([79.33333333, 84.5       , 85.16666667, 80.83333333])"
      ]
     },
     "execution_count": 22,
     "metadata": {},
     "output_type": "execute_result"
    }
   ],
   "source": [
    "np.mean(marks_3d, axis=(0,1))"
   ]
  },
  {
   "cell_type": "code",
   "execution_count": null,
   "id": "5bc7e818-212f-4249-b005-6f8763334a1e",
   "metadata": {},
   "outputs": [],
   "source": []
  }
 ],
 "metadata": {
  "kernelspec": {
   "display_name": "Python 3 (ipykernel)",
   "language": "python",
   "name": "python3"
  },
  "language_info": {
   "codemirror_mode": {
    "name": "ipython",
    "version": 3
   },
   "file_extension": ".py",
   "mimetype": "text/x-python",
   "name": "python",
   "nbconvert_exporter": "python",
   "pygments_lexer": "ipython3",
   "version": "3.11.7"
  }
 },
 "nbformat": 4,
 "nbformat_minor": 5
}
