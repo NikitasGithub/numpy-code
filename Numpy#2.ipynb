{
 "cells": [
  {
   "cell_type": "code",
   "execution_count": null,
   "id": "3705428d-8c4c-44ed-8fd0-44252de50277",
   "metadata": {},
   "outputs": [],
   "source": [
    "ndarray -> n dim array, homogeneous \n",
    "\n",
    "ndarray -> class"
   ]
  },
  {
   "cell_type": "code",
   "execution_count": 22,
   "id": "1ced1327-acf2-49aa-8478-60579d2a863b",
   "metadata": {},
   "outputs": [],
   "source": [
    "import numpy as np\n",
    "\n",
    "array_1d = np.array([\"Ravi\", \"Aryan\", \"Keya\", 3])"
   ]
  },
  {
   "cell_type": "code",
   "execution_count": 23,
   "id": "592ec2b6-d2f8-4f0b-b75e-726aa54d0644",
   "metadata": {},
   "outputs": [
    {
     "data": {
      "text/plain": [
       "numpy.ndarray"
      ]
     },
     "execution_count": 23,
     "metadata": {},
     "output_type": "execute_result"
    }
   ],
   "source": [
    "type(array_1d)"
   ]
  },
  {
   "cell_type": "code",
   "execution_count": 24,
   "id": "c7d2c367-1b4f-4e87-a039-cd8a8e908b2b",
   "metadata": {},
   "outputs": [
    {
     "data": {
      "text/plain": [
       "array(['Ravi', 'Aryan', 'Keya', '3'], dtype='<U11')"
      ]
     },
     "execution_count": 24,
     "metadata": {},
     "output_type": "execute_result"
    }
   ],
   "source": [
    "array_1d"
   ]
  },
  {
   "cell_type": "code",
   "execution_count": 8,
   "id": "e3e36dc4-6541-4e85-9cd2-8506a313e6c9",
   "metadata": {},
   "outputs": [
    {
     "data": {
      "text/plain": [
       "1"
      ]
     },
     "execution_count": 8,
     "metadata": {},
     "output_type": "execute_result"
    }
   ],
   "source": [
    "array_1d.ndim"
   ]
  },
  {
   "cell_type": "code",
   "execution_count": null,
   "id": "9388ed53-74bb-4b5e-9dc1-a0c13e23ed07",
   "metadata": {},
   "outputs": [],
   "source": [
    "#save the marks of students in 3 subjects"
   ]
  },
  {
   "cell_type": "code",
   "execution_count": 9,
   "id": "c9796f57-5103-4632-9b51-29762cf12990",
   "metadata": {},
   "outputs": [],
   "source": [
    "marks = np.array([\n",
    "    [90, 85, 88], #Ravi\n",
    "    [100, 98, 100], #aryan\n",
    "    [33, 56, 90] #keys\n",
    "])"
   ]
  },
  {
   "cell_type": "code",
   "execution_count": 10,
   "id": "84fb09e0-06b5-408e-a949-66e954ace28b",
   "metadata": {},
   "outputs": [
    {
     "data": {
      "text/plain": [
       "numpy.ndarray"
      ]
     },
     "execution_count": 10,
     "metadata": {},
     "output_type": "execute_result"
    }
   ],
   "source": [
    "type(marks)"
   ]
  },
  {
   "cell_type": "code",
   "execution_count": 11,
   "id": "916152d2-41f5-4fa7-b70b-35b72682cfc9",
   "metadata": {},
   "outputs": [
    {
     "data": {
      "text/plain": [
       "array([[ 90,  85,  88],\n",
       "       [100,  98, 100],\n",
       "       [ 33,  56,  90]])"
      ]
     },
     "execution_count": 11,
     "metadata": {},
     "output_type": "execute_result"
    }
   ],
   "source": [
    "marks"
   ]
  },
  {
   "cell_type": "code",
   "execution_count": null,
   "id": "abf878cb-ad66-48a8-b394-230b4f788e74",
   "metadata": {},
   "outputs": [],
   "source": [
    "3 dimensions-> students\n",
    "subject\n",
    "exam scores"
   ]
  },
  {
   "cell_type": "code",
   "execution_count": 12,
   "id": "0f8139ff-e567-420a-94d0-d4ce91f6dcc6",
   "metadata": {},
   "outputs": [],
   "source": [
    "marks_3d = np.array([\n",
    "    [\n",
    "        [20, 30, 56], #math\n",
    "        [56, 89, 100], #science\n",
    "        [100, 100, 100] #english\n",
    "    ],\n",
    "    [\n",
    "        [34, 78, 90], #math\n",
    "        [45, 67, 90], #science\n",
    "        [55, 89, 100] #english\n",
    "    ]\n",
    "])"
   ]
  },
  {
   "cell_type": "code",
   "execution_count": 13,
   "id": "5a66a6ef-a368-4370-b04d-0b44fb63124d",
   "metadata": {},
   "outputs": [
    {
     "data": {
      "text/plain": [
       "array([[[ 20,  30,  56],\n",
       "        [ 56,  89, 100],\n",
       "        [100, 100, 100]],\n",
       "\n",
       "       [[ 34,  78,  90],\n",
       "        [ 45,  67,  90],\n",
       "        [ 55,  89, 100]]])"
      ]
     },
     "execution_count": 13,
     "metadata": {},
     "output_type": "execute_result"
    }
   ],
   "source": [
    "marks_3d"
   ]
  },
  {
   "cell_type": "code",
   "execution_count": 17,
   "id": "4ab6257b-8bb2-4523-ab0b-6136224f30b4",
   "metadata": {},
   "outputs": [],
   "source": [
    "x = np.zeros((6))"
   ]
  },
  {
   "cell_type": "code",
   "execution_count": 18,
   "id": "ffdc8615-f22b-47b6-b2e0-49d647184f48",
   "metadata": {},
   "outputs": [
    {
     "data": {
      "text/plain": [
       "array([0., 0., 0., 0., 0., 0.])"
      ]
     },
     "execution_count": 18,
     "metadata": {},
     "output_type": "execute_result"
    }
   ],
   "source": [
    "x"
   ]
  },
  {
   "cell_type": "code",
   "execution_count": 19,
   "id": "a928d5bf-2241-49a5-adf6-1fe65f30dacf",
   "metadata": {},
   "outputs": [
    {
     "data": {
      "text/plain": [
       "1"
      ]
     },
     "execution_count": 19,
     "metadata": {},
     "output_type": "execute_result"
    }
   ],
   "source": [
    "x.ndim"
   ]
  },
  {
   "cell_type": "code",
   "execution_count": 20,
   "id": "b7ad22ff-2e82-4f38-bea2-7ee3d3eb098b",
   "metadata": {},
   "outputs": [
    {
     "data": {
      "text/plain": [
       "(6,)"
      ]
     },
     "execution_count": 20,
     "metadata": {},
     "output_type": "execute_result"
    }
   ],
   "source": [
    "x.shape"
   ]
  },
  {
   "cell_type": "code",
   "execution_count": 21,
   "id": "be7b4b5e-b6d1-4cd1-9d13-8c6f94d21424",
   "metadata": {},
   "outputs": [
    {
     "data": {
      "text/plain": [
       "dtype('float64')"
      ]
     },
     "execution_count": 21,
     "metadata": {},
     "output_type": "execute_result"
    }
   ],
   "source": [
    "x.dtype"
   ]
  },
  {
   "cell_type": "code",
   "execution_count": 25,
   "id": "e26c1b20-fd3b-4f68-9e29-24ff40ed0a9c",
   "metadata": {},
   "outputs": [
    {
     "data": {
      "text/plain": [
       "array([[1., 1.],\n",
       "       [1., 1.],\n",
       "       [1., 1.]])"
      ]
     },
     "execution_count": 25,
     "metadata": {},
     "output_type": "execute_result"
    }
   ],
   "source": [
    "np.ones((3, 2))"
   ]
  },
  {
   "cell_type": "code",
   "execution_count": 26,
   "id": "403e2b08-fcf7-48d2-9456-1731bb27999e",
   "metadata": {},
   "outputs": [
    {
     "data": {
      "text/plain": [
       "array([[7, 7],\n",
       "       [7, 7]])"
      ]
     },
     "execution_count": 26,
     "metadata": {},
     "output_type": "execute_result"
    }
   ],
   "source": [
    "np.full((2,2), 7)"
   ]
  },
  {
   "cell_type": "code",
   "execution_count": 27,
   "id": "428e705a-688d-4611-bc6b-ef2f0c7ea2a2",
   "metadata": {},
   "outputs": [
    {
     "data": {
      "text/plain": [
       "array([1, 3, 5, 7, 9])"
      ]
     },
     "execution_count": 27,
     "metadata": {},
     "output_type": "execute_result"
    }
   ],
   "source": [
    "np.arange(1, 10, 2)"
   ]
  },
  {
   "cell_type": "code",
   "execution_count": 28,
   "id": "6f1ae8b0-b7d0-44db-8c01-ff26a07e5e19",
   "metadata": {},
   "outputs": [
    {
     "data": {
      "text/plain": [
       "array([0.  , 0.25, 0.5 , 0.75, 1.  ])"
      ]
     },
     "execution_count": 28,
     "metadata": {},
     "output_type": "execute_result"
    }
   ],
   "source": [
    "#evenly spaced numbers\n",
    "\n",
    "np.linspace(0,1, 5) # create 5 numbers btw 0 and 1 (both 0 and 1 are inclusive)"
   ]
  },
  {
   "cell_type": "code",
   "execution_count": 29,
   "id": "e8468e7b-885f-49e5-80b4-7bad180a83af",
   "metadata": {},
   "outputs": [
    {
     "data": {
      "text/plain": [
       "array([[[0.64901978, 0.15204522, 0.39697845, 0.27557022, 0.2534815 ],\n",
       "        [0.0467509 , 0.89882802, 0.98868706, 0.32099495, 0.79622393],\n",
       "        [0.31628874, 0.00321551, 0.00973955, 0.4360293 , 0.5562149 ]],\n",
       "\n",
       "       [[0.85773279, 0.94890812, 0.19167748, 0.64230884, 0.34363986],\n",
       "        [0.79916005, 0.11891453, 0.74794786, 0.35781396, 0.89768431],\n",
       "        [0.0116458 , 0.62026796, 0.23673433, 0.54564331, 0.60131949]]])"
      ]
     },
     "execution_count": 29,
     "metadata": {},
     "output_type": "execute_result"
    }
   ],
   "source": [
    "np.random.rand(2, 3, 5) #random numners btw 0 and 1"
   ]
  },
  {
   "cell_type": "code",
   "execution_count": 35,
   "id": "ecdc0b44-0977-463a-ac08-865b975a999f",
   "metadata": {},
   "outputs": [],
   "source": [
    "y = np.array([1,2,3], dtype='float32')"
   ]
  },
  {
   "cell_type": "code",
   "execution_count": 36,
   "id": "ddcb3e21-acba-4d3d-9c44-4cb37a3b5525",
   "metadata": {},
   "outputs": [
    {
     "data": {
      "text/plain": [
       "1"
      ]
     },
     "execution_count": 36,
     "metadata": {},
     "output_type": "execute_result"
    }
   ],
   "source": [
    "y.ndim"
   ]
  },
  {
   "cell_type": "code",
   "execution_count": 37,
   "id": "cfd40ad3-451c-4fe0-bb0a-f87194acd85f",
   "metadata": {},
   "outputs": [
    {
     "data": {
      "text/plain": [
       "(3,)"
      ]
     },
     "execution_count": 37,
     "metadata": {},
     "output_type": "execute_result"
    }
   ],
   "source": [
    "y.shape"
   ]
  },
  {
   "cell_type": "code",
   "execution_count": 38,
   "id": "6a61f532-a97f-4adf-a5ef-a86e3ba52528",
   "metadata": {},
   "outputs": [
    {
     "data": {
      "text/plain": [
       "dtype('float32')"
      ]
     },
     "execution_count": 38,
     "metadata": {},
     "output_type": "execute_result"
    }
   ],
   "source": [
    "y.dtype"
   ]
  },
  {
   "cell_type": "code",
   "execution_count": 39,
   "id": "21774a5c-6c23-407f-a8a4-fa68e20fff6e",
   "metadata": {},
   "outputs": [
    {
     "data": {
      "text/plain": [
       "array([1., 2., 3.], dtype=float32)"
      ]
     },
     "execution_count": 39,
     "metadata": {},
     "output_type": "execute_result"
    }
   ],
   "source": [
    "y"
   ]
  },
  {
   "cell_type": "code",
   "execution_count": null,
   "id": "f3d38c8b-d7c4-42c7-a5e0-b72e246f8d4c",
   "metadata": {},
   "outputs": [],
   "source": []
  }
 ],
 "metadata": {
  "kernelspec": {
   "display_name": "Python 3 (ipykernel)",
   "language": "python",
   "name": "python3"
  },
  "language_info": {
   "codemirror_mode": {
    "name": "ipython",
    "version": 3
   },
   "file_extension": ".py",
   "mimetype": "text/x-python",
   "name": "python",
   "nbconvert_exporter": "python",
   "pygments_lexer": "ipython3",
   "version": "3.11.7"
  }
 },
 "nbformat": 4,
 "nbformat_minor": 5
}
