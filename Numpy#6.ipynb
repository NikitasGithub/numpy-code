{
 "cells": [
  {
   "cell_type": "code",
   "execution_count": 1,
   "id": "affbb02b-2322-42ea-82ee-e64daa2e0bf3",
   "metadata": {},
   "outputs": [],
   "source": [
    "import numpy as np"
   ]
  },
  {
   "cell_type": "code",
   "execution_count": 2,
   "id": "6e0e6144-f1ec-44dc-9496-a626a30efd3f",
   "metadata": {},
   "outputs": [],
   "source": [
    "arr = np.array([10, 20, 30, 40, 50])"
   ]
  },
  {
   "cell_type": "code",
   "execution_count": 47,
   "id": "f04a95a4-94f5-46f4-9b2c-e82254b5a1e0",
   "metadata": {},
   "outputs": [
    {
     "data": {
      "text/plain": [
       "array([False, False,  True,  True,  True])"
      ]
     },
     "execution_count": 47,
     "metadata": {},
     "output_type": "execute_result"
    }
   ],
   "source": [
    "condition = arr > 25\n",
    "condition"
   ]
  },
  {
   "cell_type": "code",
   "execution_count": 48,
   "id": "b14ed6a5-b9b8-4f84-957b-722f7f181729",
   "metadata": {},
   "outputs": [
    {
     "data": {
      "text/plain": [
       "array([30, 40, 50])"
      ]
     },
     "execution_count": 48,
     "metadata": {},
     "output_type": "execute_result"
    }
   ],
   "source": [
    "arr[condition]"
   ]
  },
  {
   "cell_type": "code",
   "execution_count": 49,
   "id": "7a4645e6-edbe-4c0f-811a-baeb62fdde00",
   "metadata": {},
   "outputs": [
    {
     "data": {
      "text/plain": [
       "array([30, 40, 50])"
      ]
     },
     "execution_count": 49,
     "metadata": {},
     "output_type": "execute_result"
    }
   ],
   "source": [
    "arr[arr > 25]"
   ]
  },
  {
   "cell_type": "code",
   "execution_count": 63,
   "id": "effd1ef1-c33d-4180-b3d1-2e335d945845",
   "metadata": {},
   "outputs": [
    {
     "data": {
      "text/plain": [
       "array([100,  20,  25,  30])"
      ]
     },
     "execution_count": 63,
     "metadata": {},
     "output_type": "execute_result"
    }
   ],
   "source": [
    "arr2d = np.array([[5, 100, 15], [20, 25, 30]])\n",
    "\n",
    "arr2d[arr2d > 15]"
   ]
  },
  {
   "cell_type": "code",
   "execution_count": 64,
   "id": "008fff7e-2bc5-43c7-9b93-563e68c152be",
   "metadata": {},
   "outputs": [
    {
     "data": {
      "text/plain": [
       "array([15, 20, 25, 30])"
      ]
     },
     "execution_count": 64,
     "metadata": {},
     "output_type": "execute_result"
    }
   ],
   "source": [
    "arr2d[(arr2d > 10) & (arr2d < 40) ]"
   ]
  },
  {
   "cell_type": "code",
   "execution_count": 65,
   "id": "95821557-5faf-4b21-bc5a-ce45e76913d7",
   "metadata": {},
   "outputs": [],
   "source": [
    "#select specific elements from our array"
   ]
  },
  {
   "cell_type": "code",
   "execution_count": 66,
   "id": "79d9fbab-603c-4830-8942-3a9e889c2123",
   "metadata": {},
   "outputs": [],
   "source": [
    "arr = np.array([10, 20, 30, 40, 50])"
   ]
  },
  {
   "cell_type": "markdown",
   "id": "103ca8f9-43fb-47fe-9ae2-54dad78349b2",
   "metadata": {},
   "source": [
    "arr[list of row/dim1 indices, list of col/dim2 indices, list of dim3 indices....]"
   ]
  },
  {
   "cell_type": "code",
   "execution_count": 68,
   "id": "796ad2d9-b4f0-400a-b5d8-2506f73fef1f",
   "metadata": {},
   "outputs": [
    {
     "data": {
      "text/plain": [
       "array([20, 40, 50])"
      ]
     },
     "execution_count": 68,
     "metadata": {},
     "output_type": "execute_result"
    }
   ],
   "source": [
    "arr[[1,3,4]]"
   ]
  },
  {
   "cell_type": "code",
   "execution_count": 69,
   "id": "b806c169-7753-4309-8d38-0fcedbd82e08",
   "metadata": {},
   "outputs": [
    {
     "data": {
      "text/plain": [
       "array([[  5, 100,  15],\n",
       "       [ 20,  25,  30]])"
      ]
     },
     "execution_count": 69,
     "metadata": {},
     "output_type": "execute_result"
    }
   ],
   "source": [
    "arr2d"
   ]
  },
  {
   "cell_type": "code",
   "execution_count": 70,
   "id": "14c1768f-4f53-4ca3-b3a7-2520128065a9",
   "metadata": {},
   "outputs": [
    {
     "data": {
      "text/plain": [
       "array([20, 15])"
      ]
     },
     "execution_count": 70,
     "metadata": {},
     "output_type": "execute_result"
    }
   ],
   "source": [
    "arr2d[[1,0], [0,2]]"
   ]
  },
  {
   "cell_type": "code",
   "execution_count": null,
   "id": "2ec469f7-b738-4369-bc3a-3a1c2b1af846",
   "metadata": {},
   "outputs": [],
   "source": []
  }
 ],
 "metadata": {
  "kernelspec": {
   "display_name": "Python 3 (ipykernel)",
   "language": "python",
   "name": "python3"
  },
  "language_info": {
   "codemirror_mode": {
    "name": "ipython",
    "version": 3
   },
   "file_extension": ".py",
   "mimetype": "text/x-python",
   "name": "python",
   "nbconvert_exporter": "python",
   "pygments_lexer": "ipython3",
   "version": "3.11.7"
  }
 },
 "nbformat": 4,
 "nbformat_minor": 5
}
