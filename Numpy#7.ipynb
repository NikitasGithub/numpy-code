{
 "cells": [
  {
   "cell_type": "code",
   "execution_count": 9,
   "id": "376ec00e-bfb9-43d4-b4f6-c2e9e8009b94",
   "metadata": {},
   "outputs": [],
   "source": [
    "import numpy as np\n",
    "\n",
    "arr1 = np.array([1, 2, 3, 4, 5])\n",
    "arr2 = np.array([10, 20, 30, 40])"
   ]
  },
  {
   "cell_type": "code",
   "execution_count": 10,
   "id": "6705c786-d304-4280-8099-28fad50d16b4",
   "metadata": {},
   "outputs": [],
   "source": [
    "#element wise addition"
   ]
  },
  {
   "cell_type": "code",
   "execution_count": 11,
   "id": "15091f72-157c-4d84-ba73-8c893d356110",
   "metadata": {},
   "outputs": [
    {
     "ename": "ValueError",
     "evalue": "operands could not be broadcast together with shapes (5,) (4,) ",
     "output_type": "error",
     "traceback": [
      "\u001b[1;31m---------------------------------------------------------------------------\u001b[0m",
      "\u001b[1;31mValueError\u001b[0m                                Traceback (most recent call last)",
      "Cell \u001b[1;32mIn[11], line 1\u001b[0m\n\u001b[1;32m----> 1\u001b[0m arr1 \u001b[38;5;241m*\u001b[39m arr2\n",
      "\u001b[1;31mValueError\u001b[0m: operands could not be broadcast together with shapes (5,) (4,) "
     ]
    }
   ],
   "source": [
    "arr1 * arr2"
   ]
  },
  {
   "cell_type": "code",
   "execution_count": 12,
   "id": "1b6c36e6-6750-4f76-8fe4-8984c224cf2f",
   "metadata": {},
   "outputs": [
    {
     "data": {
      "text/plain": [
       "array([ 6,  7,  8,  9, 10])"
      ]
     },
     "execution_count": 12,
     "metadata": {},
     "output_type": "execute_result"
    }
   ],
   "source": [
    "arr1 + 5"
   ]
  },
  {
   "cell_type": "code",
   "execution_count": 14,
   "id": "f915b5dc-f03e-459e-bd61-e334231bcd72",
   "metadata": {},
   "outputs": [
    {
     "data": {
      "text/plain": [
       "array([ 6,  7,  8,  9, 10])"
      ]
     },
     "execution_count": 14,
     "metadata": {},
     "output_type": "execute_result"
    }
   ],
   "source": [
    "arr1 + np.array([5,5,5,5,5]) #broadcasting"
   ]
  },
  {
   "cell_type": "code",
   "execution_count": 15,
   "id": "d4899c4b-54d1-4c22-bac1-5b4ded4535df",
   "metadata": {},
   "outputs": [
    {
     "data": {
      "text/plain": [
       "array([1, 2, 3, 4, 5])"
      ]
     },
     "execution_count": 15,
     "metadata": {},
     "output_type": "execute_result"
    }
   ],
   "source": [
    "arr1"
   ]
  },
  {
   "cell_type": "code",
   "execution_count": 19,
   "id": "7baa1ace-384f-45fa-9075-d9157c34abce",
   "metadata": {},
   "outputs": [
    {
     "name": "stdout",
     "output_type": "stream",
     "text": [
      "[1.         1.41421356 1.73205081 2.         2.23606798]\n",
      "[  2.71828183   7.3890561   20.08553692  54.59815003 148.4131591 ]\n",
      "[0.         0.69314718 1.09861229 1.38629436 1.60943791]\n",
      "[ 0.84147098  0.90929743  0.14112001 -0.7568025  -0.95892427]\n"
     ]
    }
   ],
   "source": [
    "print(np.sqrt(arr1)) #math -> for loop\n",
    "print(np.exp(arr1))\n",
    "print(np.log(arr1))\n",
    "print(np.sin(arr1))"
   ]
  },
  {
   "cell_type": "code",
   "execution_count": null,
   "id": "42168093-67d4-4de3-86ef-cee85dbaecd2",
   "metadata": {},
   "outputs": [],
   "source": [
    "#no loops required\n",
    "#functions are vectorized -> automatically apply to all elements with the end of for loop"
   ]
  },
  {
   "cell_type": "code",
   "execution_count": 21,
   "id": "ae838527-e243-47db-aeb7-d059e3bac977",
   "metadata": {},
   "outputs": [],
   "source": [
    "arr2\n",
    "arr1 = np.array([1,2,3,4])"
   ]
  },
  {
   "cell_type": "code",
   "execution_count": 22,
   "id": "cf721ce1-422e-4ed9-834d-0a2bdd55bf06",
   "metadata": {},
   "outputs": [
    {
     "data": {
      "text/plain": [
       "array([10, 10, 10, 10])"
      ]
     },
     "execution_count": 22,
     "metadata": {},
     "output_type": "execute_result"
    }
   ],
   "source": [
    "arr2 // arr1"
   ]
  },
  {
   "cell_type": "code",
   "execution_count": 24,
   "id": "b28487d4-17f0-4509-828e-ca02cde47984",
   "metadata": {},
   "outputs": [
    {
     "data": {
      "text/plain": [
       "array([1, 2, 3, 4])"
      ]
     },
     "execution_count": 24,
     "metadata": {},
     "output_type": "execute_result"
    }
   ],
   "source": [
    "arr1 % arr2"
   ]
  },
  {
   "cell_type": "code",
   "execution_count": null,
   "id": "a87f8111-63b9-420e-a8f2-498acc88c273",
   "metadata": {},
   "outputs": [],
   "source": []
  }
 ],
 "metadata": {
  "kernelspec": {
   "display_name": "Python 3 (ipykernel)",
   "language": "python",
   "name": "python3"
  },
  "language_info": {
   "codemirror_mode": {
    "name": "ipython",
    "version": 3
   },
   "file_extension": ".py",
   "mimetype": "text/x-python",
   "name": "python",
   "nbconvert_exporter": "python",
   "pygments_lexer": "ipython3",
   "version": "3.11.7"
  }
 },
 "nbformat": 4,
 "nbformat_minor": 5
}
