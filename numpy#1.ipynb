{
 "cells": [
  {
   "cell_type": "code",
   "execution_count": 1,
   "id": "46f0d697-9ed6-42c3-b23e-41cef9675ea5",
   "metadata": {},
   "outputs": [
    {
     "name": "stdout",
     "output_type": "stream",
     "text": [
      "Requirement already satisfied: numpy in c:\\users\\nikita\\anaconda3\\lib\\site-packages (1.26.4)\n"
     ]
    }
   ],
   "source": [
    "!pip install numpy"
   ]
  },
  {
   "cell_type": "code",
   "execution_count": 2,
   "id": "16cfd461-c31c-4bf4-aafc-952b85476beb",
   "metadata": {},
   "outputs": [],
   "source": [
    "import numpy as np"
   ]
  },
  {
   "cell_type": "code",
   "execution_count": 3,
   "id": "2cf0bb27-3e7b-4e0e-8541-2ef80994007c",
   "metadata": {},
   "outputs": [],
   "source": [
    "arr = np.array([10, 20, 30])"
   ]
  },
  {
   "cell_type": "code",
   "execution_count": 4,
   "id": "5ac80c2d-4c13-4051-9ba5-c83e039e28ed",
   "metadata": {},
   "outputs": [
    {
     "name": "stdout",
     "output_type": "stream",
     "text": [
      "[10 20 30]\n"
     ]
    }
   ],
   "source": [
    "print(arr)"
   ]
  },
  {
   "cell_type": "code",
   "execution_count": 5,
   "id": "9b9fe61f-a091-4bf6-9b86-b3227352b35a",
   "metadata": {},
   "outputs": [
    {
     "name": "stdout",
     "output_type": "stream",
     "text": [
      "<class 'numpy.ndarray'>\n"
     ]
    }
   ],
   "source": [
    "print(type(arr))"
   ]
  },
  {
   "cell_type": "code",
   "execution_count": 11,
   "id": "aab223c6-ea40-4689-b3ca-2401ac5e5c03",
   "metadata": {},
   "outputs": [],
   "source": [
    "import time"
   ]
  },
  {
   "cell_type": "code",
   "execution_count": 14,
   "id": "c4256144-cc67-4ea4-baab-93da780d8d84",
   "metadata": {},
   "outputs": [
    {
     "name": "stdout",
     "output_type": "stream",
     "text": [
      "Python list time 0.16400575637817383\n"
     ]
    }
   ],
   "source": [
    "sales = list(range(1000000))\n",
    "start = time.time()\n",
    "bonus = []\n",
    "for s in sales:\n",
    "    bonus.append(s*1.1)\n",
    "\n",
    "end = time.time()\n",
    "\n",
    "print(f\"Python list time {end - start}\")"
   ]
  },
  {
   "cell_type": "code",
   "execution_count": 15,
   "id": "3087ae36-f341-42c9-aad8-a4f00f95856d",
   "metadata": {},
   "outputs": [
    {
     "name": "stdout",
     "output_type": "stream",
     "text": [
      "ndarray time 0.005066394805908203\n"
     ]
    }
   ],
   "source": [
    "sales = list(range(1000000))\n",
    "np_sales = np.array(sales)\n",
    "start = time.time()\n",
    "np_bonus = np_sales*1.1\n",
    "end = time.time()\n",
    "\n",
    "print(f\"ndarray time {end - start}\")"
   ]
  },
  {
   "cell_type": "code",
   "execution_count": 8,
   "id": "f20d29f2-69aa-49d0-b498-d451baad7c86",
   "metadata": {},
   "outputs": [
    {
     "data": {
      "text/plain": [
       "numpy.ndarray"
      ]
     },
     "execution_count": 8,
     "metadata": {},
     "output_type": "execute_result"
    }
   ],
   "source": [
    "type(np_sales)"
   ]
  },
  {
   "cell_type": "code",
   "execution_count": 9,
   "id": "b200d0e7-c0aa-4d9a-b85d-7d45d415158b",
   "metadata": {},
   "outputs": [
    {
     "data": {
      "text/plain": [
       "array([110., 165., 220., 275.])"
      ]
     },
     "execution_count": 9,
     "metadata": {},
     "output_type": "execute_result"
    }
   ],
   "source": [
    "np_sales*1.1"
   ]
  },
  {
   "cell_type": "code",
   "execution_count": null,
   "id": "907e2e78-6517-40e6-9bf3-80dee84a52f6",
   "metadata": {},
   "outputs": [],
   "source": []
  }
 ],
 "metadata": {
  "kernelspec": {
   "display_name": "Python 3 (ipykernel)",
   "language": "python",
   "name": "python3"
  },
  "language_info": {
   "codemirror_mode": {
    "name": "ipython",
    "version": 3
   },
   "file_extension": ".py",
   "mimetype": "text/x-python",
   "name": "python",
   "nbconvert_exporter": "python",
   "pygments_lexer": "ipython3",
   "version": "3.11.7"
  }
 },
 "nbformat": 4,
 "nbformat_minor": 5
}
